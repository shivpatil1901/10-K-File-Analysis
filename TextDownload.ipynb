{
 "cells": [
  {
   "cell_type": "markdown",
   "metadata": {},
   "source": [
    "Installing the necessary libraries"
   ]
  },
  {
   "cell_type": "code",
   "execution_count": null,
   "metadata": {},
   "outputs": [],
   "source": [
    "!pip install sec-edgar-downloader"
   ]
  },
  {
   "cell_type": "markdown",
   "metadata": {},
   "source": [
    "Downloading the 10-K files"
   ]
  },
  {
   "cell_type": "code",
   "execution_count": 2,
   "metadata": {},
   "outputs": [
    {
     "name": "stdout",
     "output_type": "stream",
     "text": [
      "Downloading 10-K filings for AAPL for the years 1995-2023...\n",
      "Downloading 10-K filings for MSFT for the years 1995-2023...\n",
      "Downloading 10-K filings for GOOGL for the years 1995-2023...\n"
     ]
    }
   ],
   "source": [
    "from sec_edgar_downloader import Downloader\n",
    "import os\n",
    "\n",
    "def download_10k_filings(ticker_company_info, start_year=1995, end_year=2023):\n",
    "    for ticker, (company_name, email_address) in ticker_company_info.items():\n",
    "        downloader = Downloader(company_name, email_address, \"C:/Users/shivp/OneDrive/Desktop/GTech2/final_extraction\")\n",
    "\n",
    "        # Create a directory for each ticker\n",
    "        os.makedirs(ticker, exist_ok=True)\n",
    "\n",
    "        try:\n",
    "            # Download the 10-K filings for the specified range of years\n",
    "            print(f\"Downloading 10-K filings for {ticker} for the years {start_year}-{end_year}...\")\n",
    "            downloader.get(\"10-K\", ticker, after=f\"{start_year}-01-01\", before=f\"{end_year+1}-01-01\",download_details=False)\n",
    "        except Exception as e:\n",
    "            print(f\"Error downloading {ticker} filings: {e}\")\n",
    "\n",
    "# Example usage:\n",
    "ticker_company_info = {\n",
    "    \"AAPL\": (\"Apple Inc.\", \"shivp036@gmail.com\"),\n",
    "    \"MSFT\": (\"Microsoft Corporation\", \"shivp036@gmail.com\"),\n",
    "    \"GOOGL\": (\"Alphabet Inc.\", \"shivp036@gmail.com\")\n",
    "}\n",
    "\n",
    "download_10k_filings(ticker_company_info)\n"
   ]
  },
  {
   "cell_type": "markdown",
   "metadata": {},
   "source": [
    "Cleaning the data files"
   ]
  },
  {
   "cell_type": "code",
   "execution_count": 8,
   "metadata": {},
   "outputs": [],
   "source": [
    "import os\n",
    "import re\n",
    "\n",
    "# Function to remove HTML tags and unnecessary characters from a string\n",
    "def clean_text(text):\n",
    "    # Remove HTML tags\n",
    "    clean_text = re.sub(r'<.*?>', '', text)\n",
    "    \n",
    "    # Remove unnecessary characters (e.g., special characters, multiple spaces)\n",
    "    clean_text = re.sub(r'[^\\w\\s.]', '', clean_text)\n",
    "    clean_text = re.sub(r'\\s+', ' ', clean_text).strip()  # Remove extra spaces and strip leading/trailing spaces\n",
    "    \n",
    "    return clean_text\n",
    "\n",
    "# Function to read text from a file, clean it, and write to another file\n",
    "def process_text_file(input_file, output_file):\n",
    "    with open(input_file, 'r', encoding='utf-8') as f:\n",
    "        text = f.read()\n",
    "\n",
    "    clean_text_content = clean_text(text)\n",
    "\n",
    "    with open(output_file, 'w', encoding='utf-8') as f:\n",
    "        f.write(clean_text_content)\n",
    "\n",
    "# Function to process all text files in a directory\n",
    "def process_files_in_directory(directory):\n",
    "    for root, dirs, files in os.walk(directory):\n",
    "        for file in files:\n",
    "            if file.endswith(\".txt\"):  # Check if the file is a text file\n",
    "                input_file = os.path.join(root, file)\n",
    "                output_file = os.path.join(root, \"cleaned_\" + file)  # New filename for the cleaned text\n",
    "                process_text_file(input_file, output_file)\n",
    "\n",
    "# Example usage:\n",
    "directory = 'C:/Users/shivp/OneDrive/Desktop/GTech2/final_extraction/sec-edgar-filings/'  # Directory containing the files\n",
    "process_files_in_directory(directory)\n"
   ]
  }
 ],
 "metadata": {
  "kernelspec": {
   "display_name": "Python 3",
   "language": "python",
   "name": "python3"
  },
  "language_info": {
   "codemirror_mode": {
    "name": "ipython",
    "version": 3
   },
   "file_extension": ".py",
   "mimetype": "text/x-python",
   "name": "python",
   "nbconvert_exporter": "python",
   "pygments_lexer": "ipython3",
   "version": "3.11.3"
  }
 },
 "nbformat": 4,
 "nbformat_minor": 2
}
